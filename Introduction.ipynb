{
 "cells": [
  {
   "cell_type": "markdown",
   "source": [
    "# What is HPC?\n",
    "\n",
    "Its definition is widely used, and it depends on the structure of your work. HPC is a set of resources that allow you to perform tasks that are not possible on a single computer. It is a set of computers that are connected to each other and work together to solve a problem, where the number of cores, memory or space needed is high.\n",
    "\n",
    "However, it is possible to do HPC from your laptop, the HPC is bigger than using a single cluster of computers. Remember also that the operations in a computer are constrained base din the number of cores, frequency of operations and the size of the vector unit of the processor. So, if you have a problem that needs to be solved in a short time, you need more cores, with more frequency and a wider vector unit."
   ],
   "metadata": {
    "collapsed": false
   },
   "id": "500324c9cc4d46"
  },
  {
   "cell_type": "markdown",
   "source": [
    "# Some aspects:\n",
    "\n",
    "- Peak of performance represent the maximum number of operations capable to do by a computer.\n",
    "- CPU performance is measured on FLOPS (Floating Point Operations per Second).\n",
    "- The performance is also affected by the memory bandwidth.\n",
    "- The handling and using data is also important, because it limits the performance of the computer.\n",
    "- Remember the hierarchy of memory, the closer to the CPU, the faster the memory is. It includes Cache, RAM, Disk, Network, etc.\n",
    "- Around a cluster of computers, the data are spread in different nodes, so the communication between them is important.\n",
    "- There is also the opportunity to add GPUs to the cluster, which are very powerful for some tasks. It is important to know how to use them, because it can be or solve a bottleneck.\n",
    "\n",
    "In this school, we will learn how to exploit all the structures of a cluster of computers, and how to use the resources to solve problems in a short time. We will also learn how to use the GPUs to solve problems in a short time, and how both can be combined to solve problems in real-time."
   ],
   "metadata": {
    "collapsed": false
   },
   "id": "b607991e5baf56a4"
  },
  {
   "cell_type": "markdown",
   "source": [
    "# Programming Parallel Paradigms\n",
    "\n",
    "These are tools used to express the parallelism for a given architecture, it is important to know them, because they are the base of the programming models. Some examples are OpenFOAM, FFTW, OpenBLAS, etc. It also includes the libraries that are used to solve problems in parallel, like MPI, OpenMP, CUDA, or Python Libraries like Numpy, Scipy, etc.\n",
    "\n",
    "It is also important to note that several libraries does not take care about HPC implementations, such as considering clusters, communication between them and the programming language speed. So, it is important to know how to use them, take care about their drawbacks and learn how to exploit the resources of the cluster.\n",
    "\n",
    "Designing software, it is also important to challenge the code maintainability, and understand the complexity of software development. In Leonardo supercomputers, the 99% of the computing power is allocated in accelerators (GPUs), so it is important to know how to use them, and base our software to exploit them.\n",
    "\n",
    "# How do we evaluate the improvement?\n",
    "\n",
    "In HPC, we use the term speedup. It estimates the amount of improvement of a given algorithm, and it is defined as:\n",
    "$$ S_p = \\frac{T_1}{T_p} $$\n",
    "Where $T_1$ is the time of the algorithm in a single core, and $T_p$ is the time of the algorithm in $p$ cores. It is important to note that the speedup is limited by Amdahl's law, which is defined as:\n",
    "$$ S_p = \\frac{1}{(1-P)+\\frac{P}{p}} $$\n",
    "Where $P$ is the parallel fraction of the algorithm.\n",
    "\n"
   ],
   "metadata": {
    "collapsed": false
   },
   "id": "5e974cf38e402873"
  },
  {
   "cell_type": "markdown",
   "source": [
    "# Accessing Leonardo Supercomputer\n",
    "\n",
    "To access the supercomputer, you need to have an account. You can request one in the following link: [https://userdb.hpc.cineca.it/hpc-access](https://userdb.hpc.cineca.it/hpc-access)\n",
    "\n",
    "After getting and authorized an account, you must install step package on Linux (guide on [https://wiki.u-gov.it/confluence/display/SCAIUS/Setup+client+step-cli%3A+Linux+and+Mac+users](https://wiki.u-gov.it/confluence/display/SCAIUS/Setup+client+step-cli%3A+Linux+and+Mac+users)) and then, you can access the supercomputer with the following command:\n",
    "```\n",
    "step ssh login keneth.garcia@correo.nucleares.unam.mx --provisioner cineca-hpc\n",
    "```\n",
    "Where you must replace the email with your email, and the provisioner with the one that you have access. After that, you must enter your password, and one-time code. Then, you will be able to access the supercomputer.\n",
    "\n",
    "Note: YOU WILL NEED TO RESTART THE KEY ACCESS EVERY 24 HOURS.\n",
    "\n",
    "After that, you will be able to access to one of the single computers of Leonardo, using the following command:\n",
    "```\n",
    "ssh kgarciac@login.leonardo.cineca.it\n",
    "```\n",
    "Where you must replace the email with your email. Then, to access the GPU nodes, you must use the following command:\n",
    "```\n",
    "srun --nodes=10 --ntasks-per-node=4 --cpus-per-task=8 -A ICT23_SMR3872 --time 00:01:00 --gres=gpu:4 --mem=490000MB -p boost_usr_prod --pty /bin/bash\n",
    "```\n",
    "Where you must replace the number of nodes, the number of tasks per node, the number of cpus per task, the account, the time, the number of GPUs, the memory and the partition."
   ],
   "metadata": {
    "collapsed": false
   },
   "id": "10f3930aaef32b87"
  },
  {
   "cell_type": "markdown",
   "source": [
    "# Compiling, linking, and Interfacing Multiple programming languages (Dr. Axel KOHLMEYER)\n",
    "\n",
    "In this section, we will learn how to compile, link and interface multiple programming languages. You need to learn that gcc is a compiler, and it is used to compile C and C++ code. It is also important to note that the compiler is used to translate the code from a programming language to machine code. The linker is used to link the code with the libraries, and the interface is used to call functions from other programming languages. GCC works to compile C and C++ code in the following way:\n",
    "\n",
    "1. Preprocessing: It is used to include the libraries, and replace the macros. To stop the process in this step, use the -E flag in the command line (i.e., gcc -E file.c).\n",
    "2. Compile converts a high-level language to assembly code. To stop the process in this step, use the -S flag in the command line (i.e., gcc -S file.c). The compiler converts the language in specific instructions, by parsing text, translating to internal representation units, and replacing them with pieces of assembly code.\n",
    "3. The assembler translate the assembly code to machine code. To stop the process in this step, use the -c flag in the command line (i.e., gcc -c file.c). It creates a so-called object file, which contains the machine code in ELF (Executable and Linkable Format) format.\n",
    "4. The linker is used to link the object files with the libraries. To stop the process in this step, use the -o flag in the command line (i.e., gcc -o file file.c). It creates an executable file, which contains the machine code in ELF format, and the libraries. **It is notable to add that are versions of high optimized code, for example, the exponential function is optimized into C, by using the \"-03\" flag in the command line (i.e., gcc -o file file.c -03).**\n",
    "\n",
    "Comment: In C, inside the file, you can add a special type of variable denoted by static const command. For example, the command static const int val1=5 will define a unique type of variable used in the compiling time, but it does not accessible by the user.\n",
    "\n",
    "# Static libraries\n",
    "\n",
    "To add more than one or two files with commands predefined, it is better to make a static libraries, built with the \"ar\" command. These are collections of objects with a global symbol table, and it is used to link the libraries with the code. Static libraries are copied into the executable and all the addresses recomputed. These libraries are read from left to right, and it only needs the name to be called.\n",
    "\n",
    "# Shared libraries\n",
    "\n",
    "These are objects like executables without any main() function. By not having main(), the compiler does not copy the code inside the new executable, only the reference to the function needed will be used in the executable file created, and the addresses of these functions need to be relocated at runtime. \n",
    "\n",
    "Compared to static libraries, the shared libraries are slower, but the differences are small. This is due to the fact that the shared libraries are loaded into the memory, and the static libraries are copied into the executable file. Another disadvantage is that these functions usually does not give us errors at the same way as static libraries, so it is harder to debug.\n",
    "\n",
    "# Using LD_PRELOAD\n",
    "\n",
    "This is a variable used to load a shared library before any other library. It is used to replace the functions of a library, and it is used to debug/improve the code. For example, if you want to replace the function \"log()\" with a faster version of it on AMD processors:\n",
    "``` \n",
    "# include \"amdlibm.h\"\n",
    "double log(double x) {\n",
    "    return amd_log(x);\n",
    "}\n",
    "```\n",
    "Then, you must compile the code with the following command:\n",
    "``` gcc -shared -o libmymath.so mymath.c -lamdlibm```\n",
    "And, you can use the following command to change the function log():\n",
    "``` LD_PRELOAD=/path/to/libmymath.so ./myprogram ```\n",
    "Where libmymath.so is the library that contains the improved version of log().\n",
    "\n",
    "By using this type of approaching, the execution time of the same piece of code can be dramatically improved. Check if your code can be improved by using this type of approach.\n",
    "\n",
    "# Pre-processing in C and Fortran\n",
    "\n",
    "In C pre-processing is mandatory, but in Fortran it is optional. In C, the pre-processing is done by using the command \"cpp\", and it is used to include the libraries, and replace the macros. In Fortran, the pre-processing is done by using the command \"fpp\", and it is used to include the libraries, and replace the macros. It is important to note that the pre-processing is done before the compiling, and it is done by using the command \"gcc -E file.c\" or \"gfortran -E file.f90\".\n",
    "\n"
   ],
   "metadata": {
    "collapsed": false
   },
   "id": "6db1dc2a81887138"
  },
  {
   "cell_type": "markdown",
   "source": [
    "# Introduction to CMake [Dr. Axel KOHLMEYER](https://sites.google.com/site/akohlmey)\n",
    "\n",
    "CMake is a tool used to build, test and package software. It is used to create a Makefile, which is used to compile the code. It is important to note that CMake is a meta-build system, which means that it is used to create a Makefile, and then, the Makefile is used to compile the code. It is also important to note that CMake is a cross-platform tool, which means that it can be used in different operating systems. It is also important to note that CMake is a declarative language, which means that it is used to describe the build process, and it is not a programming language.\n",
    "\n",
    "The basic steps behind CMakes are the configuration, generate of build files and build. The configuration is used to set the variables, and it is done by using the command \"cmake -DVAR=VALUE\". The generate of build files is done by using the command \"cmake --build .\", and it is used to create the Makefile. The build is done by using the command \"make\", and it is used to compile the code.\n",
    "\n",
    "On linux, it is possible to build using \"make\" or \"ninja\", there is IDE support for Kate, Eclipse, CodeBlocks. It is recommended also to do \"out-of-source\" builds, which means that the build files are created in a different folder than the source code. \n",
    "\n",
    "CMake also has support to use MPI and OpenMP, two popular libraries to do parallel computing. Moreover, it is possible to use CMake to compile CUDA code, and it is possible to use CMake to compile Python code. "
   ],
   "metadata": {
    "collapsed": false
   },
   "id": "8efb0ce1321c5cba"
  },
  {
   "cell_type": "code",
   "execution_count": null,
   "outputs": [],
   "source": [],
   "metadata": {
    "collapsed": false
   },
   "id": "6b04edce8cd1f64c"
  }
 ],
 "metadata": {
  "kernelspec": {
   "display_name": "Python 3",
   "language": "python",
   "name": "python3"
  },
  "language_info": {
   "codemirror_mode": {
    "name": "ipython",
    "version": 2
   },
   "file_extension": ".py",
   "mimetype": "text/x-python",
   "name": "python",
   "nbconvert_exporter": "python",
   "pygments_lexer": "ipython2",
   "version": "2.7.6"
  }
 },
 "nbformat": 4,
 "nbformat_minor": 5
}
