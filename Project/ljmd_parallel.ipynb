{
 "cells": [
  {
   "cell_type": "markdown",
   "source": [
    "## Run the sequential code\n",
    "\n",
    "First, let's start by executing the ljmd_python_sequential_loop.py and ljmd_python_sequential_vectorized.py files to get the execution time of the sequential code in both loop and vectorized way:"
   ],
   "metadata": {
    "collapsed": false
   },
   "id": "31777cf391d64d22"
  },
  {
   "cell_type": "code",
   "execution_count": 5,
   "outputs": [
    {
     "name": "stdout",
     "output_type": "stream",
     "text": [
      "Loaded 2916 particles with 51 timesteps.\r\n",
      "Starting simulation...\r\n",
      "Step T(K)   KE  PE  TE\r\n",
      "10 4.937 42.895 -4569.938 -4527.042\r\n",
      "20 14.976 130.125 -4657.042 -4526.917\r\n",
      "30 23.547 204.603 -4731.460 -4526.858\r\n",
      "40 28.332 246.180 -4773.182 -4527.002\r\n",
      "50 29.511 256.427 -4783.531 -4527.104\r\n",
      "Simulation finished in 26.104 seconds.\r\n"
     ]
    }
   ],
   "source": [
    "! python ljmd_python_sequential_vectorized.py"
   ],
   "metadata": {
    "collapsed": false,
    "ExecuteTime": {
     "end_time": "2023-09-14T03:02:20.566695690Z",
     "start_time": "2023-09-14T03:01:53.608913442Z"
    }
   },
   "id": "bb52677273a813d1"
  },
  {
   "cell_type": "code",
   "execution_count": 7,
   "outputs": [
    {
     "name": "stdout",
     "output_type": "stream",
     "text": [
      "Loaded 2916 particles with 51 timesteps.\r\n",
      "Starting simulation...\r\n",
      "Step T(K)   KE  PE  TE\r\n",
      "10 4.937 42.895 -4569.938 -4527.042\r\n",
      "20 14.976 130.125 -4657.042 -4526.917\r\n",
      "30 23.547 204.603 -4731.460 -4526.858\r\n",
      "40 28.332 246.180 -4773.182 -4527.002\r\n",
      "50 29.511 256.427 -4783.531 -4527.104\r\n",
      "Simulation finished in 515.722 seconds.\r\n"
     ]
    }
   ],
   "source": [
    "! python ljmd_python_sequential_loop.py"
   ],
   "metadata": {
    "collapsed": false,
    "ExecuteTime": {
     "end_time": "2023-09-14T03:13:19.957359642Z",
     "start_time": "2023-09-14T03:04:34.146102887Z"
    }
   },
   "id": "51d6e37ca7aa112d"
  },
  {
   "cell_type": "markdown",
   "source": [
    "# Parallelizing using Dask\n",
    "\n",
    "Dask is a parallel computing library that scales the existing Python ecosystem. It uses task scheduling for computational tasks and is designed to work with Numpy, Pandas, and Scikit-Learn. Dask is a great tool for parallelizing machine learning algorithms. It can be used to parallelize the training of multiple models, hyperparameter tuning, and cross-validation. Dask can be used to parallelize the training of multiple models, hyperparameter tuning, and cross-validation.\n",
    "\n",
    "In this notebook, we will show the results of parallelizing the Lennard Jones code created before by using Dask over the numpy arrays, and then we will compare the performance of the parallelized code with the serial code."
   ],
   "metadata": {
    "collapsed": false
   },
   "id": "9bf33972fc20f5cd"
  },
  {
   "cell_type": "code",
   "execution_count": 18,
   "outputs": [
    {
     "name": "stdout",
     "output_type": "stream",
     "text": [
      "Loaded 2916 particles with 51 timesteps.\r\n",
      "Starting simulation...\r\n",
      "Step T(K)   KE  PE  TE\r\n",
      "<class 'dask.array.core.Array'> <class 'dask.array.core.Array'> <class 'dask.array.core.Array'>\r\n",
      "<class 'dask.array.core.Array'> <class 'dask.array.core.Array'> <class 'dask.array.core.Array'>\r\n",
      "<class 'dask.array.core.Array'> <class 'dask.array.core.Array'> <class 'dask.array.core.Array'>\r\n",
      "<class 'dask.array.core.Array'> <class 'dask.array.core.Array'> <class 'dask.array.core.Array'>\r\n",
      "<class 'dask.array.core.Array'> <class 'dask.array.core.Array'> <class 'dask.array.core.Array'>\r\n",
      "<class 'dask.array.core.Array'> <class 'dask.array.core.Array'> <class 'dask.array.core.Array'>\r\n",
      "<class 'dask.array.core.Array'> <class 'dask.array.core.Array'> <class 'dask.array.core.Array'>\r\n",
      "<class 'dask.array.core.Array'> <class 'dask.array.core.Array'> <class 'dask.array.core.Array'>\r\n",
      "^C\r\n",
      "Traceback (most recent call last):\r\n",
      "  File \"/home/keneth/Pictures/3rd_LATAM_School_in_HPC/SMR3872-Colombia/Project/ljmd_parallel_dask_2.py\", line 80, in <module>\r\n",
      "    main()\r\n",
      "  File \"/home/keneth/Pictures/3rd_LATAM_School_in_HPC/SMR3872-Colombia/Project/ljmd_parallel_dask_2.py\", line 61, in main\r\n",
      "    x_s[i], y_s[i], z_s[i], vx_s[i], vy_s[i], vz_s[i], fx_s[i], fy_s[i], fz_s[i], potential_energy[\r\n",
      "  File \"/home/keneth/Documents/ClassiPyGRB/venv/lib/python3.10/site-packages/dask/array/core.py\", line 1700, in __array__\r\n",
      "    x = self.compute()\r\n",
      "  File \"/home/keneth/Documents/ClassiPyGRB/venv/lib/python3.10/site-packages/dask/base.py\", line 342, in compute\r\n",
      "    (result,) = compute(self, traverse=False, **kwargs)\r\n",
      "  File \"/home/keneth/Documents/ClassiPyGRB/venv/lib/python3.10/site-packages/dask/base.py\", line 628, in compute\r\n",
      "    results = schedule(dsk, keys, **kwargs)\r\n",
      "  File \"/usr/lib/python3.10/queue.py\", line 171, in get\r\n",
      "    self.not_empty.wait()\r\n",
      "  File \"/usr/lib/python3.10/threading.py\", line 320, in wait\r\n",
      "    waiter.acquire()\r\n",
      "KeyboardInterrupt\r\n"
     ]
    }
   ],
   "source": [
    "! python ljmd_parallel_dask_2.py"
   ],
   "metadata": {
    "collapsed": false,
    "ExecuteTime": {
     "end_time": "2023-09-14T04:21:35.114834648Z",
     "start_time": "2023-09-14T04:21:23.217602184Z"
    }
   },
   "id": "7250b07877445e62"
  },
  {
   "cell_type": "code",
   "execution_count": 1,
   "outputs": [
    {
     "name": "stdout",
     "output_type": "stream",
     "text": [
      "Loaded 2916 particles with 51 timesteps.\n",
      "Starting simulation...\n",
      "Step T(K)   KE  PE  TE\n"
     ]
    },
    {
     "ename": "KeyboardInterrupt",
     "evalue": "",
     "output_type": "error",
     "traceback": [
      "\u001B[0;31m---------------------------------------------------------------------------\u001B[0m",
      "\u001B[0;31mKeyError\u001B[0m                                  Traceback (most recent call last)",
      "File \u001B[0;32m~/Documents/ClassiPyGRB/venv/lib/python3.10/site-packages/dask/highlevelgraph.py:507\u001B[0m, in \u001B[0;36mHighLevelGraph.__getitem__\u001B[0;34m(self, key)\u001B[0m\n\u001B[1;32m    506\u001B[0m \u001B[38;5;28;01mtry\u001B[39;00m:\n\u001B[0;32m--> 507\u001B[0m     \u001B[38;5;28;01mreturn\u001B[39;00m \u001B[43md\u001B[49m\u001B[43m[\u001B[49m\u001B[43mkey\u001B[49m\u001B[43m]\u001B[49m\n\u001B[1;32m    508\u001B[0m \u001B[38;5;28;01mexcept\u001B[39;00m \u001B[38;5;167;01mKeyError\u001B[39;00m:\n",
      "File \u001B[0;32m~/Documents/ClassiPyGRB/venv/lib/python3.10/site-packages/dask/highlevelgraph.py:315\u001B[0m, in \u001B[0;36mMaterializedLayer.__getitem__\u001B[0;34m(self, k)\u001B[0m\n\u001B[1;32m    314\u001B[0m \u001B[38;5;28;01mdef\u001B[39;00m \u001B[38;5;21m__getitem__\u001B[39m(\u001B[38;5;28mself\u001B[39m, k):\n\u001B[0;32m--> 315\u001B[0m     \u001B[38;5;28;01mreturn\u001B[39;00m \u001B[38;5;28;43mself\u001B[39;49m\u001B[38;5;241;43m.\u001B[39;49m\u001B[43mmapping\u001B[49m\u001B[43m[\u001B[49m\u001B[43mk\u001B[49m\u001B[43m]\u001B[49m\n",
      "\u001B[0;31mKeyError\u001B[0m: ('getitem-1131d6ed8b82ff036abadbf72447d3dd',)",
      "\nDuring handling of the above exception, another exception occurred:\n",
      "\u001B[0;31mKeyboardInterrupt\u001B[0m                         Traceback (most recent call last)",
      "Cell \u001B[0;32mIn[1], line 5\u001B[0m\n\u001B[1;32m      3\u001B[0m profile \u001B[38;5;241m=\u001B[39m cProfile\u001B[38;5;241m.\u001B[39mProfile()\n\u001B[1;32m      4\u001B[0m profile\u001B[38;5;241m.\u001B[39menable()\n\u001B[0;32m----> 5\u001B[0m \u001B[43mmain\u001B[49m\u001B[43m(\u001B[49m\u001B[43m)\u001B[49m\n\u001B[1;32m      6\u001B[0m profile\u001B[38;5;241m.\u001B[39mdisable()\n\u001B[1;32m      7\u001B[0m ps \u001B[38;5;241m=\u001B[39m pstats\u001B[38;5;241m.\u001B[39mStats(profile)\u001B[38;5;241m.\u001B[39msort_stats(\u001B[38;5;124m'\u001B[39m\u001B[38;5;124mtottime\u001B[39m\u001B[38;5;124m'\u001B[39m)\n",
      "File \u001B[0;32m~/Pictures/3rd_LATAM_School_in_HPC/SMR3872-Colombia/Project/ljmd_parallel_dask_2.py:62\u001B[0m, in \u001B[0;36mmain\u001B[0;34m()\u001B[0m\n\u001B[1;32m     58\u001B[0m start \u001B[38;5;241m=\u001B[39m time\u001B[38;5;241m.\u001B[39mtime()\n\u001B[1;32m     59\u001B[0m \u001B[38;5;28;01mfor\u001B[39;00m i \u001B[38;5;129;01min\u001B[39;00m \u001B[38;5;28mrange\u001B[39m(\u001B[38;5;241m1\u001B[39m, data[\u001B[38;5;124m\"\u001B[39m\u001B[38;5;124mn_steps\u001B[39m\u001B[38;5;124m\"\u001B[39m]):\n\u001B[1;32m     60\u001B[0m     \u001B[38;5;66;03m# Propagate the positions, velocities and forces\u001B[39;00m\n\u001B[1;32m     61\u001B[0m     x_s[i], y_s[i], z_s[i], vx_s[i], vy_s[i], vz_s[i], fx_s[i], fy_s[i], fz_s[i], potential_energy[\n\u001B[0;32m---> 62\u001B[0m         i] \u001B[38;5;241m=\u001B[39m \u001B[43mverlet_vectorized\u001B[49m\u001B[43m(\u001B[49m\u001B[43mx_s\u001B[49m\u001B[43m[\u001B[49m\u001B[43mi\u001B[49m\u001B[43m \u001B[49m\u001B[38;5;241;43m-\u001B[39;49m\u001B[43m \u001B[49m\u001B[38;5;241;43m1\u001B[39;49m\u001B[43m]\u001B[49m\u001B[43m,\u001B[49m\u001B[43m \u001B[49m\u001B[43my_s\u001B[49m\u001B[43m[\u001B[49m\u001B[43mi\u001B[49m\u001B[43m \u001B[49m\u001B[38;5;241;43m-\u001B[39;49m\u001B[43m \u001B[49m\u001B[38;5;241;43m1\u001B[39;49m\u001B[43m]\u001B[49m\u001B[43m,\u001B[49m\u001B[43m \u001B[49m\u001B[43mz_s\u001B[49m\u001B[43m[\u001B[49m\u001B[43mi\u001B[49m\u001B[43m \u001B[49m\u001B[38;5;241;43m-\u001B[39;49m\u001B[43m \u001B[49m\u001B[38;5;241;43m1\u001B[39;49m\u001B[43m]\u001B[49m\u001B[43m,\u001B[49m\u001B[43m \u001B[49m\u001B[43mvx_s\u001B[49m\u001B[43m[\u001B[49m\u001B[43mi\u001B[49m\u001B[43m \u001B[49m\u001B[38;5;241;43m-\u001B[39;49m\u001B[43m \u001B[49m\u001B[38;5;241;43m1\u001B[39;49m\u001B[43m]\u001B[49m\u001B[43m,\u001B[49m\u001B[43m \u001B[49m\u001B[43mvy_s\u001B[49m\u001B[43m[\u001B[49m\u001B[43mi\u001B[49m\u001B[43m \u001B[49m\u001B[38;5;241;43m-\u001B[39;49m\u001B[43m \u001B[49m\u001B[38;5;241;43m1\u001B[39;49m\u001B[43m]\u001B[49m\u001B[43m,\u001B[49m\u001B[43m \u001B[49m\u001B[43mvz_s\u001B[49m\u001B[43m[\u001B[49m\u001B[43mi\u001B[49m\u001B[43m \u001B[49m\u001B[38;5;241;43m-\u001B[39;49m\u001B[43m \u001B[49m\u001B[38;5;241;43m1\u001B[39;49m\u001B[43m]\u001B[49m\u001B[43m,\u001B[49m\n\u001B[1;32m     63\u001B[0m \u001B[43m                               \u001B[49m\u001B[43mfx_s\u001B[49m\u001B[43m[\u001B[49m\u001B[43mi\u001B[49m\u001B[43m \u001B[49m\u001B[38;5;241;43m-\u001B[39;49m\u001B[43m \u001B[49m\u001B[38;5;241;43m1\u001B[39;49m\u001B[43m]\u001B[49m\u001B[43m,\u001B[49m\u001B[43m \u001B[49m\u001B[43mfy_s\u001B[49m\u001B[43m[\u001B[49m\u001B[43mi\u001B[49m\u001B[43m \u001B[49m\u001B[38;5;241;43m-\u001B[39;49m\u001B[43m \u001B[49m\u001B[38;5;241;43m1\u001B[39;49m\u001B[43m]\u001B[49m\u001B[43m,\u001B[49m\u001B[43m \u001B[49m\u001B[43mfz_s\u001B[49m\u001B[43m[\u001B[49m\u001B[43mi\u001B[49m\u001B[43m \u001B[49m\u001B[38;5;241;43m-\u001B[39;49m\u001B[43m \u001B[49m\u001B[38;5;241;43m1\u001B[39;49m\u001B[43m]\u001B[49m\u001B[43m,\u001B[49m\u001B[43m \u001B[49m\u001B[43mdata\u001B[49m\u001B[43m[\u001B[49m\u001B[38;5;124;43m'\u001B[39;49m\u001B[38;5;124;43mdelta_t\u001B[39;49m\u001B[38;5;124;43m'\u001B[39;49m\u001B[43m]\u001B[49m\u001B[43m)\u001B[49m\n\u001B[1;32m     64\u001B[0m     \u001B[38;5;66;03m# Calculate the kinetic energy and temperature\u001B[39;00m\n\u001B[1;32m     65\u001B[0m     kinetic_energy[i], temperature[i] \u001B[38;5;241m=\u001B[39m kin_energy_vectorized(vx_s[i], vy_s[i], vz_s[i])\n",
      "File \u001B[0;32m~/Pictures/3rd_LATAM_School_in_HPC/SMR3872-Colombia/Project/ljmd_parallel_dask_1.py:113\u001B[0m, in \u001B[0;36mverlet_vectorized\u001B[0;34m(x, y, z, vx, vy, vz, fx, fy, fz, dt)\u001B[0m\n\u001B[1;32m    110\u001B[0m z \u001B[38;5;241m+\u001B[39m\u001B[38;5;241m=\u001B[39m vz \u001B[38;5;241m*\u001B[39m dt\n\u001B[1;32m    111\u001B[0m \u001B[38;5;66;03m# Then, calculate the forces\u001B[39;00m\n\u001B[1;32m    112\u001B[0m \u001B[38;5;66;03m# fx, fy, fz, u = lj_force_vectorized(x, y, z)\u001B[39;00m\n\u001B[0;32m--> 113\u001B[0m fx, fy, fz, u \u001B[38;5;241m=\u001B[39m \u001B[43mlj_force_looping\u001B[49m\u001B[43m(\u001B[49m\u001B[43mx\u001B[49m\u001B[43m,\u001B[49m\u001B[43m \u001B[49m\u001B[43my\u001B[49m\u001B[43m,\u001B[49m\u001B[43m \u001B[49m\u001B[43mz\u001B[49m\u001B[43m)\u001B[49m\n\u001B[1;32m    114\u001B[0m \u001B[38;5;66;03m# Finally, propagate the velocities by half step\u001B[39;00m\n\u001B[1;32m    115\u001B[0m vx \u001B[38;5;241m+\u001B[39m\u001B[38;5;241m=\u001B[39m aux \u001B[38;5;241m*\u001B[39m fx \u001B[38;5;241m*\u001B[39m dt\n",
      "File \u001B[0;32m~/Pictures/3rd_LATAM_School_in_HPC/SMR3872-Colombia/Project/ljmd_parallel_dask_1.py:74\u001B[0m, in \u001B[0;36mlj_force_looping\u001B[0;34m(x, y, z)\u001B[0m\n\u001B[1;32m     72\u001B[0m u \u001B[38;5;241m+\u001B[39m\u001B[38;5;241m=\u001B[39m (c12 \u001B[38;5;241m*\u001B[39m r6_inv \u001B[38;5;241m-\u001B[39m c6) \u001B[38;5;241m*\u001B[39m r6_inv\n\u001B[1;32m     73\u001B[0m fx[i] \u001B[38;5;241m+\u001B[39m\u001B[38;5;241m=\u001B[39m f_aux \u001B[38;5;241m*\u001B[39m dx\n\u001B[0;32m---> 74\u001B[0m \u001B[43mfy\u001B[49m\u001B[43m[\u001B[49m\u001B[43mi\u001B[49m\u001B[43m]\u001B[49m \u001B[38;5;241m+\u001B[39m\u001B[38;5;241m=\u001B[39m f_aux \u001B[38;5;241m*\u001B[39m dy\n\u001B[1;32m     75\u001B[0m fz[i] \u001B[38;5;241m+\u001B[39m\u001B[38;5;241m=\u001B[39m f_aux \u001B[38;5;241m*\u001B[39m dz\n\u001B[1;32m     76\u001B[0m \u001B[38;5;66;03m# Take into account 3rd Newton's law\u001B[39;00m\n",
      "File \u001B[0;32m~/Documents/ClassiPyGRB/venv/lib/python3.10/site-packages/dask/array/core.py:1930\u001B[0m, in \u001B[0;36mArray.__setitem__\u001B[0;34m(self, key, value)\u001B[0m\n\u001B[1;32m   1927\u001B[0m value \u001B[38;5;241m=\u001B[39m asanyarray(value)\n\u001B[1;32m   1929\u001B[0m out \u001B[38;5;241m=\u001B[39m \u001B[38;5;124m\"\u001B[39m\u001B[38;5;124msetitem-\u001B[39m\u001B[38;5;124m\"\u001B[39m \u001B[38;5;241m+\u001B[39m tokenize(\u001B[38;5;28mself\u001B[39m, key, value)\n\u001B[0;32m-> 1930\u001B[0m dsk \u001B[38;5;241m=\u001B[39m \u001B[43msetitem_array\u001B[49m\u001B[43m(\u001B[49m\u001B[43mout\u001B[49m\u001B[43m,\u001B[49m\u001B[43m \u001B[49m\u001B[38;5;28;43mself\u001B[39;49m\u001B[43m,\u001B[49m\u001B[43m \u001B[49m\u001B[43mkey\u001B[49m\u001B[43m,\u001B[49m\u001B[43m \u001B[49m\u001B[43mvalue\u001B[49m\u001B[43m)\u001B[49m\n\u001B[1;32m   1932\u001B[0m meta \u001B[38;5;241m=\u001B[39m meta_from_array(\u001B[38;5;28mself\u001B[39m\u001B[38;5;241m.\u001B[39m_meta)\n\u001B[1;32m   1933\u001B[0m \u001B[38;5;28;01mif\u001B[39;00m np\u001B[38;5;241m.\u001B[39misscalar(meta):\n",
      "File \u001B[0;32m~/Documents/ClassiPyGRB/venv/lib/python3.10/site-packages/dask/array/slicing.py:2064\u001B[0m, in \u001B[0;36msetitem_array\u001B[0;34m(out_name, array, indices, value)\u001B[0m\n\u001B[1;32m   2059\u001B[0m v_key \u001B[38;5;241m=\u001B[39m \u001B[38;5;28mnext\u001B[39m(flatten(v\u001B[38;5;241m.\u001B[39m__dask_keys__()))\n\u001B[1;32m   2061\u001B[0m \u001B[38;5;66;03m# Insert into the output dask dictionary the dask of the part\u001B[39;00m\n\u001B[1;32m   2062\u001B[0m \u001B[38;5;66;03m# of assignment value for this block (not minding when we\u001B[39;00m\n\u001B[1;32m   2063\u001B[0m \u001B[38;5;66;03m# overwrite any existing keys as the values will be the same).\u001B[39;00m\n\u001B[0;32m-> 2064\u001B[0m dsk \u001B[38;5;241m=\u001B[39m merge(\u001B[38;5;28;43mdict\u001B[39;49m\u001B[43m(\u001B[49m\u001B[43mv\u001B[49m\u001B[38;5;241;43m.\u001B[39;49m\u001B[43mdask\u001B[49m\u001B[43m)\u001B[49m, dsk)\n\u001B[1;32m   2066\u001B[0m \u001B[38;5;66;03m# Define the assignment function for this block.\u001B[39;00m\n\u001B[1;32m   2067\u001B[0m dsk[out_key] \u001B[38;5;241m=\u001B[39m (setitem, in_key, v_key, block_indices)\n",
      "File \u001B[0;32m~/Documents/ClassiPyGRB/venv/lib/python3.10/site-packages/dask/highlevelgraph.py:507\u001B[0m, in \u001B[0;36mHighLevelGraph.__getitem__\u001B[0;34m(self, key)\u001B[0m\n\u001B[1;32m    505\u001B[0m \u001B[38;5;28;01mfor\u001B[39;00m d \u001B[38;5;129;01min\u001B[39;00m \u001B[38;5;28mself\u001B[39m\u001B[38;5;241m.\u001B[39mlayers\u001B[38;5;241m.\u001B[39mvalues():\n\u001B[1;32m    506\u001B[0m     \u001B[38;5;28;01mtry\u001B[39;00m:\n\u001B[0;32m--> 507\u001B[0m         \u001B[38;5;28;01mreturn\u001B[39;00m \u001B[43md\u001B[49m\u001B[43m[\u001B[49m\u001B[43mkey\u001B[49m\u001B[43m]\u001B[49m\n\u001B[1;32m    508\u001B[0m     \u001B[38;5;28;01mexcept\u001B[39;00m \u001B[38;5;167;01mKeyError\u001B[39;00m:\n\u001B[1;32m    509\u001B[0m         \u001B[38;5;28;01mpass\u001B[39;00m\n",
      "\u001B[0;31mKeyboardInterrupt\u001B[0m: "
     ]
    }
   ],
   "source": [
    "import cProfile, pstats\n",
    "from ljmd_parallel_dask_2 import main\n",
    "profile = cProfile.Profile()\n",
    "profile.enable()\n",
    "main()\n",
    "profile.disable()\n",
    "ps = pstats.Stats(profile).sort_stats('tottime')"
   ],
   "metadata": {
    "collapsed": false,
    "ExecuteTime": {
     "end_time": "2023-09-14T14:21:31.187331595Z",
     "start_time": "2023-09-14T14:20:17.244035854Z"
    }
   },
   "id": "d65cde86bae7f075"
  },
  {
   "cell_type": "code",
   "execution_count": null,
   "outputs": [],
   "source": [
    "print(ps.print_stats())"
   ],
   "metadata": {
    "collapsed": false,
    "ExecuteTime": {
     "end_time": "2023-09-14T14:21:31.188949077Z",
     "start_time": "2023-09-14T14:21:31.188697344Z"
    }
   },
   "id": "92002ac6851a0f8"
  },
  {
   "cell_type": "code",
   "execution_count": null,
   "outputs": [],
   "source": [
    "# "
   ],
   "metadata": {
    "collapsed": false
   },
   "id": "ca0814c0ec2b18f8"
  }
 ],
 "metadata": {
  "kernelspec": {
   "display_name": "Python 3",
   "language": "python",
   "name": "python3"
  },
  "language_info": {
   "codemirror_mode": {
    "name": "ipython",
    "version": 2
   },
   "file_extension": ".py",
   "mimetype": "text/x-python",
   "name": "python",
   "nbconvert_exporter": "python",
   "pygments_lexer": "ipython2",
   "version": "2.7.6"
  }
 },
 "nbformat": 4,
 "nbformat_minor": 5
}
