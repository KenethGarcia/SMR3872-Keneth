{
 "cells": [
  {
   "cell_type": "markdown",
   "source": [
    "# HPC Hardware\n",
    "\n",
    "Remember that in a cluster we have:\n",
    "\n",
    "- Hardware (CPUs, GPUs, RAM, storage, network)\n",
    "- Software (OS, libraries, compilers, schedulers, etc.)\n",
    "- Datacenter (power, cooling, etc.)\n",
    "\n",
    "and it defines the total cost of ownership (TCO) of the cluster.\n",
    "\n",
    "# Containers\n",
    "Containers are a way to package software and its dependencies into a single unit. Containers are similar to virtual machines, but they are more lightweight and portable. Containers are an important part of the DevOps movement. It isolates the software from its environment and ensures that it works uniformly despite differences for instance in the operating system.\n",
    "\n",
    "Virtual Machines virtualize hardware, and containers virtualize the operating system. Containers are more lightweight than virtual machines, because they share the operating system kernel with the host. This means that they are more portable and faster to start up. Moreover, they are modular and can be combined to create complex applications. By using containers, you can use the dependencies configuration of your laptop directly to the cluster.\n",
    "\n",
    "Another essential advantage of using containers is that it limits the packages needed to run properly scripts on the cluster, then it is less probable to have for example intrusive software that can break the workflow of your connection and inside the cluster.\n",
    "\n",
    "# Containers in HPC\n",
    "\n",
    "To make a workflow based on containers we will use Singularity. Singularity is a container platform designed for use on HPC systems. With containers, you can use thing like RStudio and Jupyter Notebooks on the cluster. You can also use containers to package your own software and dependencies. \n",
    "\n",
    "Examples of containers include Docker, singularity and Apptainers. Docker is the most popular container platform, but it is not designed for HPC systems. Singularity is designed for HPC systems and is the most popular container platform for HPC. Apptainers is a container platform designed for HPC systems that is currently under development.\n",
    "\n",
    "## Basics terminology\n",
    "\n",
    "There are four important terms to understand when working with Singularity:\n",
    "\n",
    "- Image: a single file that contains a virtual environment.\n",
    "- Container: an instance of an image.\n",
    "- Registry: a place to store and share images.\n",
    "- Recipe: a file that describes how to build an image. In singularity, it has a .def extension.\n",
    "\n",
    "# Singularity\n",
    "\n",
    "Singularity has some advantages in HPC systems, following:\n",
    "\n",
    "- unpriviliged runtime --> no root access needed\n",
    "- integration --> can use the host's filesystem, network, etc.\n",
    "- interface with job schedulers --> can be used to run jobs on the cluster, such as SLURM\n",
    "- Ability to run MPI, and GPU jobs\n",
    "\n"
   ],
   "metadata": {
    "collapsed": false
   },
   "id": "7d5e902c4cffc1f5"
  },
  {
   "cell_type": "markdown",
   "source": [
    "# Interfacing Python with C/C++ and Fortran\n",
    "\n",
    "In this talk we are using f2py and ctypes to interface Python with C/C++ and Fortran. In ctypes module in Python provides C compatible data types, and allows calling functions in DLLs or shared libraries. It can be used to wrap these libraries in pure Python. It is even possible to create a Python module in C using ctypes. It provides a interface between dloopen()/dlsym(), allowing to call compiled C code from Python.\n",
    "\n",
    "# ctypes\n",
    "\n",
    "The main problem of ctypes is that you need to know exactly where to load the language scripts function, in order to don't get a kaboom! It is primordial to send properly the type of variable when you are trying to match the function in C/C++ or Fortran from Python. By default, it assumes that the values are integers, but, if for example you need to use float or double, you will need:\n",
    "\n",
    "```python\n",
    "dso.sum_of_ints.argtypes = [c_double, c_double]\n",
    "```\n",
    "\n",
    "Moreover, to handle strings, you will need to understand that string are different in both C and Python (they are objects that can be incoded using .incode function). To handle this, you will need to use the create_string_buffer() function from ctypes. This function creates a mutable character buffer. The size argument specifies the size of the buffer in bytes. The buffer is pre-filled with null bytes. The raw property contains the contents of the buffer as a bytes object. The value property contains the contents of the buffer as a string. The value property is computed on demand and not cached. For example, if you need to modify a string from a C function, you can use this function.\n",
    "\n",
    "To handle arrays, in C usually arrays need to be allocated, so it is preferable to allocate arrays in Python directly, to avoid problems involving memory allocation. To do this, it is usual to use list in a special form, for example:\n",
    "\n",
    "```python\n",
    "dlist = (c_double * num)()\n",
    "```\n",
    "\n",
    "and, in numpy, there is ways to convert this type of arrays in numpy arrays. This is useful when working with Fortran, because it aldo needs to define dimensions, and it flattens the array, improving speed in operations like matrix multiplication. Furthermore, we will need to state pointers using the POINTER() function in the definition of the argtypes in ctypes.\n",
    "\n",
    "In complex storage elements like struct, we will need to use the Structure argument in a parameter class. For example, you can define the types of the function in a constructor object in Python, and interface it using the Structure argument. This is useful when you need to pass a lot of arguments to a function, and you don't want to pass them one by one. To for example define a force function in LJMD problem, this type of approach will be essential.\n",
    "\n",
    "# f2py\n",
    "\n",
    "Unlike C, the binary interface in Fortran is more complicated. This is because there are a lot of version of fortran compilers, and we will need to perform a implementation to specifically runs in this compiler. However, the NumPy project has a tool called \"f2py\" that process and hides much of the complications. Without them, you will need to compile using f2py the Fortran program and then import the module created in the Python script. It is important to read the documentation of f2py, because it is a very powerful tool, and it can be used to create Python modules in Fortran.\n",
    "\n"
   ],
   "metadata": {
    "collapsed": false
   },
   "id": "b6d49962e7e6c90b"
  },
  {
   "cell_type": "markdown",
   "source": [
    "# pybind11\n",
    "\n",
    "pybind11 is a package for compile C++ code by using Python. It is a very powerful tool, and it is very useful when you need to use C++ code in Python. It is very useful when you need to use C++ code in Python, because it is very easy to use, and it is very fast. It will use CMake to compile the files, but you can use also setuptools to compile the files."
   ],
   "metadata": {
    "collapsed": false
   },
   "id": "70b664ed55e04901"
  }
 ],
 "metadata": {
  "kernelspec": {
   "display_name": "Python 3",
   "language": "python",
   "name": "python3"
  },
  "language_info": {
   "codemirror_mode": {
    "name": "ipython",
    "version": 2
   },
   "file_extension": ".py",
   "mimetype": "text/x-python",
   "name": "python",
   "nbconvert_exporter": "python",
   "pygments_lexer": "ipython2",
   "version": "2.7.6"
  }
 },
 "nbformat": 4,
 "nbformat_minor": 5
}
